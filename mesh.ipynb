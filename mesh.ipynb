{
 "cells": [
  {
   "cell_type": "code",
   "id": "initial_id",
   "metadata": {
    "collapsed": true,
    "ExecuteTime": {
     "end_time": "2025-09-08T13:32:13.121583Z",
     "start_time": "2025-09-08T13:32:13.118621Z"
    }
   },
   "source": [
    "import meshio\n",
    "import numpy as np\n",
    "import pyvista as pv\n"
   ],
   "outputs": [],
   "execution_count": 3
  },
  {
   "metadata": {
    "ExecuteTime": {
     "end_time": "2025-09-08T13:56:21.856928Z",
     "start_time": "2025-09-08T13:56:21.798771Z"
    }
   },
   "cell_type": "code",
   "source": "mesh = meshio.read(\"geom/flow_2.xdmf\")",
   "id": "30fd0478977f0c64",
   "outputs": [
    {
     "ename": "KeyError",
     "evalue": "np.int64(0)",
     "output_type": "error",
     "traceback": [
      "\u001B[31m---------------------------------------------------------------------------\u001B[39m",
      "\u001B[31mKeyError\u001B[39m                                  Traceback (most recent call last)",
      "\u001B[36mCell\u001B[39m\u001B[36m \u001B[39m\u001B[32mIn[27]\u001B[39m\u001B[32m, line 1\u001B[39m\n\u001B[32m----> \u001B[39m\u001B[32m1\u001B[39m mesh = \u001B[43mmeshio\u001B[49m\u001B[43m.\u001B[49m\u001B[43mread\u001B[49m\u001B[43m(\u001B[49m\u001B[33;43m\"\u001B[39;49m\u001B[33;43mgeom/flow_2.xdmf\u001B[39;49m\u001B[33;43m\"\u001B[39;49m\u001B[43m)\u001B[49m\n",
      "\u001B[36mFile \u001B[39m\u001B[32m~\\PycharmProjects\\contrails\\.venv\\Lib\\site-packages\\meshio\\_helpers.py:71\u001B[39m, in \u001B[36mread\u001B[39m\u001B[34m(filename, file_format)\u001B[39m\n\u001B[32m     68\u001B[39m \u001B[38;5;28;01mif\u001B[39;00m is_buffer(filename, \u001B[33m\"\u001B[39m\u001B[33mr\u001B[39m\u001B[33m\"\u001B[39m):\n\u001B[32m     69\u001B[39m     \u001B[38;5;28;01mreturn\u001B[39;00m _read_buffer(filename, file_format)\n\u001B[32m---> \u001B[39m\u001B[32m71\u001B[39m \u001B[38;5;28;01mreturn\u001B[39;00m \u001B[43m_read_file\u001B[49m\u001B[43m(\u001B[49m\u001B[43mPath\u001B[49m\u001B[43m(\u001B[49m\u001B[43mfilename\u001B[49m\u001B[43m)\u001B[49m\u001B[43m,\u001B[49m\u001B[43m \u001B[49m\u001B[43mfile_format\u001B[49m\u001B[43m)\u001B[49m\n",
      "\u001B[36mFile \u001B[39m\u001B[32m~\\PycharmProjects\\contrails\\.venv\\Lib\\site-packages\\meshio\\_helpers.py:103\u001B[39m, in \u001B[36m_read_file\u001B[39m\u001B[34m(path, file_format)\u001B[39m\n\u001B[32m    100\u001B[39m     \u001B[38;5;28;01mraise\u001B[39;00m ReadError(\u001B[33mf\u001B[39m\u001B[33m\"\u001B[39m\u001B[33mUnknown file format \u001B[39m\u001B[33m'\u001B[39m\u001B[38;5;132;01m{\u001B[39;00mfile_format\u001B[38;5;132;01m}\u001B[39;00m\u001B[33m'\u001B[39m\u001B[33m of \u001B[39m\u001B[33m'\u001B[39m\u001B[38;5;132;01m{\u001B[39;00mpath\u001B[38;5;132;01m}\u001B[39;00m\u001B[33m'\u001B[39m\u001B[33m.\u001B[39m\u001B[33m\"\u001B[39m)\n\u001B[32m    102\u001B[39m \u001B[38;5;28;01mtry\u001B[39;00m:\n\u001B[32m--> \u001B[39m\u001B[32m103\u001B[39m     \u001B[38;5;28;01mreturn\u001B[39;00m \u001B[43mreader_map\u001B[49m\u001B[43m[\u001B[49m\u001B[43mfile_format\u001B[49m\u001B[43m]\u001B[49m\u001B[43m(\u001B[49m\u001B[38;5;28;43mstr\u001B[39;49m\u001B[43m(\u001B[49m\u001B[43mpath\u001B[49m\u001B[43m)\u001B[49m\u001B[43m)\u001B[49m\n\u001B[32m    104\u001B[39m \u001B[38;5;28;01mexcept\u001B[39;00m ReadError \u001B[38;5;28;01mas\u001B[39;00m e:\n\u001B[32m    105\u001B[39m     \u001B[38;5;28mprint\u001B[39m(e)\n",
      "\u001B[36mFile \u001B[39m\u001B[32m~\\PycharmProjects\\contrails\\.venv\\Lib\\site-packages\\meshio\\xdmf\\main.py:30\u001B[39m, in \u001B[36mread\u001B[39m\u001B[34m(filename)\u001B[39m\n\u001B[32m     29\u001B[39m \u001B[38;5;28;01mdef\u001B[39;00m\u001B[38;5;250m \u001B[39m\u001B[34mread\u001B[39m(filename):\n\u001B[32m---> \u001B[39m\u001B[32m30\u001B[39m     \u001B[38;5;28;01mreturn\u001B[39;00m \u001B[43mXdmfReader\u001B[49m\u001B[43m(\u001B[49m\u001B[43mfilename\u001B[49m\u001B[43m)\u001B[49m\u001B[43m.\u001B[49m\u001B[43mread\u001B[49m\u001B[43m(\u001B[49m\u001B[43m)\u001B[49m\n",
      "\u001B[36mFile \u001B[39m\u001B[32m~\\PycharmProjects\\contrails\\.venv\\Lib\\site-packages\\meshio\\xdmf\\main.py:48\u001B[39m, in \u001B[36mXdmfReader.read\u001B[39m\u001B[34m(self)\u001B[39m\n\u001B[32m     45\u001B[39m version = root.attrib[\u001B[33m\"\u001B[39m\u001B[33mVersion\u001B[39m\u001B[33m\"\u001B[39m]\n\u001B[32m     47\u001B[39m \u001B[38;5;28;01mif\u001B[39;00m version.split(\u001B[33m\"\u001B[39m\u001B[33m.\u001B[39m\u001B[33m\"\u001B[39m)[\u001B[32m0\u001B[39m] == \u001B[33m\"\u001B[39m\u001B[33m2\u001B[39m\u001B[33m\"\u001B[39m:\n\u001B[32m---> \u001B[39m\u001B[32m48\u001B[39m     \u001B[38;5;28;01mreturn\u001B[39;00m \u001B[38;5;28;43mself\u001B[39;49m\u001B[43m.\u001B[49m\u001B[43mread_xdmf2\u001B[49m\u001B[43m(\u001B[49m\u001B[43mroot\u001B[49m\u001B[43m)\u001B[49m\n\u001B[32m     50\u001B[39m \u001B[38;5;28;01mif\u001B[39;00m version.split(\u001B[33m\"\u001B[39m\u001B[33m.\u001B[39m\u001B[33m\"\u001B[39m)[\u001B[32m0\u001B[39m] != \u001B[33m\"\u001B[39m\u001B[33m3\u001B[39m\u001B[33m\"\u001B[39m:\n\u001B[32m     51\u001B[39m     \u001B[38;5;28;01mraise\u001B[39;00m ReadError(\u001B[33mf\u001B[39m\u001B[33m\"\u001B[39m\u001B[33mUnknown XDMF version \u001B[39m\u001B[38;5;132;01m{\u001B[39;00mversion\u001B[38;5;132;01m}\u001B[39;00m\u001B[33m.\u001B[39m\u001B[33m\"\u001B[39m)\n",
      "\u001B[36mFile \u001B[39m\u001B[32m~\\PycharmProjects\\contrails\\.venv\\Lib\\site-packages\\meshio\\xdmf\\main.py:173\u001B[39m, in \u001B[36mXdmfReader.read_xdmf2\u001B[39m\u001B[34m(self, root)\u001B[39m\n\u001B[32m    171\u001B[39m topology_type = c.attrib[\u001B[33m\"\u001B[39m\u001B[33mTopologyType\u001B[39m\u001B[33m\"\u001B[39m]\n\u001B[32m    172\u001B[39m \u001B[38;5;28;01mif\u001B[39;00m topology_type == \u001B[33m\"\u001B[39m\u001B[33mMixed\u001B[39m\u001B[33m\"\u001B[39m:\n\u001B[32m--> \u001B[39m\u001B[32m173\u001B[39m     cells = \u001B[43mtranslate_mixed_cells\u001B[49m\u001B[43m(\u001B[49m\n\u001B[32m    174\u001B[39m \u001B[43m        \u001B[49m\u001B[43mnp\u001B[49m\u001B[43m.\u001B[49m\u001B[43mfromstring\u001B[49m\u001B[43m(\u001B[49m\n\u001B[32m    175\u001B[39m \u001B[43m            \u001B[49m\u001B[43mdata_items\u001B[49m\u001B[43m[\u001B[49m\u001B[32;43m0\u001B[39;49m\u001B[43m]\u001B[49m\u001B[43m.\u001B[49m\u001B[43mtext\u001B[49m\u001B[43m,\u001B[49m\n\u001B[32m    176\u001B[39m \u001B[43m            \u001B[49m\u001B[38;5;28;43mint\u001B[39;49m\u001B[43m,\u001B[49m\n\u001B[32m    177\u001B[39m \u001B[43m            \u001B[49m\u001B[38;5;28;43mint\u001B[39;49m\u001B[43m(\u001B[49m\u001B[43mdata_items\u001B[49m\u001B[43m[\u001B[49m\u001B[32;43m0\u001B[39;49m\u001B[43m]\u001B[49m\u001B[43m.\u001B[49m\u001B[43mget\u001B[49m\u001B[43m(\u001B[49m\u001B[33;43m\"\u001B[39;49m\u001B[33;43mDimensions\u001B[39;49m\u001B[33;43m\"\u001B[39;49m\u001B[43m)\u001B[49m\u001B[43m)\u001B[49m\u001B[43m,\u001B[49m\n\u001B[32m    178\u001B[39m \u001B[43m            \u001B[49m\u001B[33;43m\"\u001B[39;49m\u001B[33;43m \u001B[39;49m\u001B[33;43m\"\u001B[39;49m\u001B[43m,\u001B[49m\n\u001B[32m    179\u001B[39m \u001B[43m        \u001B[49m\u001B[43m)\u001B[49m\n\u001B[32m    180\u001B[39m \u001B[43m    \u001B[49m\u001B[43m)\u001B[49m\n\u001B[32m    181\u001B[39m \u001B[38;5;28;01melse\u001B[39;00m:\n\u001B[32m    182\u001B[39m     data = \u001B[38;5;28mself\u001B[39m._read_data_item(data_items[\u001B[32m0\u001B[39m])\n",
      "\u001B[36mFile \u001B[39m\u001B[32m~\\PycharmProjects\\contrails\\.venv\\Lib\\site-packages\\meshio\\xdmf\\common.py:143\u001B[39m, in \u001B[36mtranslate_mixed_cells\u001B[39m\u001B[34m(data)\u001B[39m\n\u001B[32m    141\u001B[39m         r += \u001B[32m1\u001B[39m\n\u001B[32m    142\u001B[39m     r += \u001B[32m1\u001B[39m\n\u001B[32m--> \u001B[39m\u001B[32m143\u001B[39m     r += \u001B[43mxdmf_idx_to_num_nodes\u001B[49m\u001B[43m[\u001B[49m\u001B[43mxdmf_type\u001B[49m\u001B[43m]\u001B[49m\n\u001B[32m    145\u001B[39m types = np.array(types)\n\u001B[32m    146\u001B[39m offsets = np.array(offsets)\n",
      "\u001B[31mKeyError\u001B[39m: np.int64(0)"
     ]
    }
   ],
   "execution_count": 27
  },
  {
   "metadata": {
    "ExecuteTime": {
     "end_time": "2025-09-08T13:53:18.401029Z",
     "start_time": "2025-09-08T13:53:18.376366Z"
    }
   },
   "cell_type": "code",
   "source": "%tb",
   "id": "2045d917d0e9beb9",
   "outputs": [
    {
     "ename": "KeyError",
     "evalue": "'TopologyType'",
     "output_type": "error",
     "traceback": [
      "\u001B[31m---------------------------------------------------------------------------\u001B[39m",
      "\u001B[31mKeyError\u001B[39m                                  Traceback (most recent call last)",
      "\u001B[36mCell\u001B[39m\u001B[36m \u001B[39m\u001B[32mIn[24]\u001B[39m\u001B[32m, line 1\u001B[39m\n\u001B[32m----> \u001B[39m\u001B[32m1\u001B[39m mesh = \u001B[43mmeshio\u001B[49m\u001B[43m.\u001B[49m\u001B[43mread\u001B[49m\u001B[43m(\u001B[49m\u001B[33;43m\"\u001B[39;49m\u001B[33;43mgeom/flow_2.xdmf\u001B[39;49m\u001B[33;43m\"\u001B[39;49m\u001B[43m)\u001B[49m\n",
      "\u001B[36mFile \u001B[39m\u001B[32m~\\PycharmProjects\\contrails\\.venv\\Lib\\site-packages\\meshio\\_helpers.py:71\u001B[39m, in \u001B[36mread\u001B[39m\u001B[34m(filename, file_format)\u001B[39m\n\u001B[32m     68\u001B[39m \u001B[38;5;28;01mif\u001B[39;00m is_buffer(filename, \u001B[33m\"\u001B[39m\u001B[33mr\u001B[39m\u001B[33m\"\u001B[39m):\n\u001B[32m     69\u001B[39m     \u001B[38;5;28;01mreturn\u001B[39;00m _read_buffer(filename, file_format)\n\u001B[32m---> \u001B[39m\u001B[32m71\u001B[39m \u001B[38;5;28;01mreturn\u001B[39;00m \u001B[43m_read_file\u001B[49m\u001B[43m(\u001B[49m\u001B[43mPath\u001B[49m\u001B[43m(\u001B[49m\u001B[43mfilename\u001B[49m\u001B[43m)\u001B[49m\u001B[43m,\u001B[49m\u001B[43m \u001B[49m\u001B[43mfile_format\u001B[49m\u001B[43m)\u001B[49m\n",
      "\u001B[36mFile \u001B[39m\u001B[32m~\\PycharmProjects\\contrails\\.venv\\Lib\\site-packages\\meshio\\_helpers.py:103\u001B[39m, in \u001B[36m_read_file\u001B[39m\u001B[34m(path, file_format)\u001B[39m\n\u001B[32m    100\u001B[39m     \u001B[38;5;28;01mraise\u001B[39;00m ReadError(\u001B[33mf\u001B[39m\u001B[33m\"\u001B[39m\u001B[33mUnknown file format \u001B[39m\u001B[33m'\u001B[39m\u001B[38;5;132;01m{\u001B[39;00mfile_format\u001B[38;5;132;01m}\u001B[39;00m\u001B[33m'\u001B[39m\u001B[33m of \u001B[39m\u001B[33m'\u001B[39m\u001B[38;5;132;01m{\u001B[39;00mpath\u001B[38;5;132;01m}\u001B[39;00m\u001B[33m'\u001B[39m\u001B[33m.\u001B[39m\u001B[33m\"\u001B[39m)\n\u001B[32m    102\u001B[39m \u001B[38;5;28;01mtry\u001B[39;00m:\n\u001B[32m--> \u001B[39m\u001B[32m103\u001B[39m     \u001B[38;5;28;01mreturn\u001B[39;00m \u001B[43mreader_map\u001B[49m\u001B[43m[\u001B[49m\u001B[43mfile_format\u001B[49m\u001B[43m]\u001B[49m\u001B[43m(\u001B[49m\u001B[38;5;28;43mstr\u001B[39;49m\u001B[43m(\u001B[49m\u001B[43mpath\u001B[49m\u001B[43m)\u001B[49m\u001B[43m)\u001B[49m\n\u001B[32m    104\u001B[39m \u001B[38;5;28;01mexcept\u001B[39;00m ReadError \u001B[38;5;28;01mas\u001B[39;00m e:\n\u001B[32m    105\u001B[39m     \u001B[38;5;28mprint\u001B[39m(e)\n",
      "\u001B[36mFile \u001B[39m\u001B[32m~\\PycharmProjects\\contrails\\.venv\\Lib\\site-packages\\meshio\\xdmf\\main.py:30\u001B[39m, in \u001B[36mread\u001B[39m\u001B[34m(filename)\u001B[39m\n\u001B[32m     29\u001B[39m \u001B[38;5;28;01mdef\u001B[39;00m\u001B[38;5;250m \u001B[39m\u001B[34mread\u001B[39m(filename):\n\u001B[32m---> \u001B[39m\u001B[32m30\u001B[39m     \u001B[38;5;28;01mreturn\u001B[39;00m \u001B[43mXdmfReader\u001B[49m\u001B[43m(\u001B[49m\u001B[43mfilename\u001B[49m\u001B[43m)\u001B[49m\u001B[43m.\u001B[49m\u001B[43mread\u001B[49m\u001B[43m(\u001B[49m\u001B[43m)\u001B[49m\n",
      "\u001B[36mFile \u001B[39m\u001B[32m~\\PycharmProjects\\contrails\\.venv\\Lib\\site-packages\\meshio\\xdmf\\main.py:48\u001B[39m, in \u001B[36mXdmfReader.read\u001B[39m\u001B[34m(self)\u001B[39m\n\u001B[32m     45\u001B[39m version = root.attrib[\u001B[33m\"\u001B[39m\u001B[33mVersion\u001B[39m\u001B[33m\"\u001B[39m]\n\u001B[32m     47\u001B[39m \u001B[38;5;28;01mif\u001B[39;00m version.split(\u001B[33m\"\u001B[39m\u001B[33m.\u001B[39m\u001B[33m\"\u001B[39m)[\u001B[32m0\u001B[39m] == \u001B[33m\"\u001B[39m\u001B[33m2\u001B[39m\u001B[33m\"\u001B[39m:\n\u001B[32m---> \u001B[39m\u001B[32m48\u001B[39m     \u001B[38;5;28;01mreturn\u001B[39;00m \u001B[38;5;28;43mself\u001B[39;49m\u001B[43m.\u001B[49m\u001B[43mread_xdmf2\u001B[49m\u001B[43m(\u001B[49m\u001B[43mroot\u001B[49m\u001B[43m)\u001B[49m\n\u001B[32m     50\u001B[39m \u001B[38;5;28;01mif\u001B[39;00m version.split(\u001B[33m\"\u001B[39m\u001B[33m.\u001B[39m\u001B[33m\"\u001B[39m)[\u001B[32m0\u001B[39m] != \u001B[33m\"\u001B[39m\u001B[33m3\u001B[39m\u001B[33m\"\u001B[39m:\n\u001B[32m     51\u001B[39m     \u001B[38;5;28;01mraise\u001B[39;00m ReadError(\u001B[33mf\u001B[39m\u001B[33m\"\u001B[39m\u001B[33mUnknown XDMF version \u001B[39m\u001B[38;5;132;01m{\u001B[39;00mversion\u001B[38;5;132;01m}\u001B[39;00m\u001B[33m.\u001B[39m\u001B[33m\"\u001B[39m)\n",
      "\u001B[36mFile \u001B[39m\u001B[32m~\\PycharmProjects\\contrails\\.venv\\Lib\\site-packages\\meshio\\xdmf\\main.py:171\u001B[39m, in \u001B[36mXdmfReader.read_xdmf2\u001B[39m\u001B[34m(self, root)\u001B[39m\n\u001B[32m    165\u001B[39m         message += (\n\u001B[32m    166\u001B[39m             \u001B[33m\"\u001B[39m\u001B[38;5;130;01m\\n\u001B[39;00m\u001B[33mStructured meshes are not supported, see \u001B[39m\u001B[33m\"\u001B[39m\n\u001B[32m    167\u001B[39m             \u001B[33m\"\u001B[39m\u001B[33m<https://github.com/nschloe/meshio/issues/404>.\u001B[39m\u001B[33m\"\u001B[39m\n\u001B[32m    168\u001B[39m         )\n\u001B[32m    169\u001B[39m     \u001B[38;5;28;01mraise\u001B[39;00m ReadError(message)\n\u001B[32m--> \u001B[39m\u001B[32m171\u001B[39m topology_type = \u001B[43mc\u001B[49m\u001B[43m.\u001B[49m\u001B[43mattrib\u001B[49m\u001B[43m[\u001B[49m\u001B[33;43m\"\u001B[39;49m\u001B[33;43mTopologyType\u001B[39;49m\u001B[33;43m\"\u001B[39;49m\u001B[43m]\u001B[49m\n\u001B[32m    172\u001B[39m \u001B[38;5;28;01mif\u001B[39;00m topology_type == \u001B[33m\"\u001B[39m\u001B[33mMixed\u001B[39m\u001B[33m\"\u001B[39m:\n\u001B[32m    173\u001B[39m     cells = translate_mixed_cells(\n\u001B[32m    174\u001B[39m         np.fromstring(\n\u001B[32m    175\u001B[39m             data_items[\u001B[32m0\u001B[39m].text,\n\u001B[32m   (...)\u001B[39m\u001B[32m    179\u001B[39m         )\n\u001B[32m    180\u001B[39m     )\n",
      "\u001B[31mKeyError\u001B[39m: 'TopologyType'"
     ]
    }
   ],
   "execution_count": 25
  }
 ],
 "metadata": {
  "kernelspec": {
   "display_name": "Python 3",
   "language": "python",
   "name": "python3"
  },
  "language_info": {
   "codemirror_mode": {
    "name": "ipython",
    "version": 2
   },
   "file_extension": ".py",
   "mimetype": "text/x-python",
   "name": "python",
   "nbconvert_exporter": "python",
   "pygments_lexer": "ipython2",
   "version": "2.7.6"
  }
 },
 "nbformat": 4,
 "nbformat_minor": 5
}
